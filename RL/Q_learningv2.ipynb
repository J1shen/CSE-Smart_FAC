{
  "nbformat": 4,
  "nbformat_minor": 0,
  "metadata": {
    "colab": {
      "provenance": []
    },
    "kernelspec": {
      "name": "python3",
      "display_name": "Python 3"
    },
    "language_info": {
      "name": "python"
    }
  },
  "cells": [
    {
      "cell_type": "code",
      "execution_count": null,
      "metadata": {
        "id": "uPoNxhtUhAuK"
      },
      "outputs": [],
      "source": [
        "import time\n",
        "import numpy as np\n",
        "import pandas as pd\n",
        "\n",
        "num_robot = 4\n",
        "num_table = 9\n",
        "num_product = 7\n",
        "map_size = 50"
      ]
    },
    {
      "cell_type": "code",
      "source": [
        "#状态空间\n",
        "STATES = []\n",
        "for a in range(num_product+1):\n",
        "    for b in range(num_product+1):\n",
        "        for c in range(num_product+1):\n",
        "          for d in range(num_product+1):\n",
        "            for e in range(2):  #31\n",
        "              for f in range(2):  #32\n",
        "                for g in range(2):  #41 \n",
        "                  for h in range(2):  #43\n",
        "                    for i in range(2):  #52\n",
        "                      for j in range(2):  #53\n",
        "                        for k in range(2):  #61\n",
        "                          for l in range(2):  #62\n",
        "                            for m in range(2):  #63\n",
        "                              state = str(a)+str(b)+str(c)+str(d)+str(e)+str(f)+str(g)+str(h)+str(i)+str(j)+str(k)+str(l)+str(m)\n",
        "                              STATES.append(state)\n",
        "#可能行动\n",
        "ACTIONS = []\n",
        "for i in range(num_table):\n",
        "  ACTIONS.append('to'+str(i))\n",
        "#ACTIONS.append('drop')\n",
        "\n",
        "EPSILON = 0.9\n",
        "ALPHA = 0.1\n",
        "GAMMA = 0.9\n",
        "FRESH_TIME = 0.3\n",
        "TerminalFlag = \"Terminal\"\n",
        "\n",
        "CarryingMatrix = np.zeros((num_robot,1))\n",
        "StoringMatrix = np.zeros((num_table,num_product))\n",
        "\n",
        "#工作台位置\n",
        "table_pos = [\n",
        "    [1,1],[3,3],[5,5],[7,7],[9,9],[11,11],[13,13],[15,15],[17,17]\n",
        "]"
      ],
      "metadata": {
        "id": "n_2Ow44FhLC3"
      },
      "execution_count": null,
      "outputs": []
    },
    {
      "cell_type": "code",
      "source": [
        "def build_q_table(states, actions):\n",
        "    return pd.DataFrame(\n",
        "        np.zeros((len(states), len(actions))),\n",
        "        index = states,\n",
        "        columns = actions\n",
        "    )\n",
        "\n",
        "\n",
        "def choose_action(S, q_table):\n",
        "    state_table = q_table.loc[S,:]\n",
        "    if (np.random.uniform() > EPSILON) or ((state_table == 0).all()):\n",
        "        action_name = np.random.choice(ACTIONS)\n",
        "    else:\n",
        "        action_name = state_table.idxmax()\n",
        "    return action_name\n"
      ],
      "metadata": {
        "id": "PbQ4QHo2hjSS"
      },
      "execution_count": null,
      "outputs": []
    },
    {
      "cell_type": "code",
      "source": [
        "def get_env_feedback(S, A, i):\n",
        "    R = 0\n",
        "    state = list(S)\n",
        "    for t in range(len(state)):\n",
        "      state[t] = int(state[t])\n",
        "    \n",
        "    if state[0+i] == 0:\n",
        "      if A == 'to0':\n",
        "        state[0+i] = 1\n",
        "        R = -30\n",
        "      elif A == 'to1': \n",
        "        state[0+i] = 2\n",
        "        R = -44\n",
        "      elif A == 'to2':\n",
        "        state[0+i] = 3\n",
        "        R = -58\n",
        "    elif state[0+i] == 1:\n",
        "      if A == 'to8':\n",
        "        state[0+i] = 0\n",
        "        R = 60\n",
        "      elif A == 'to3':\n",
        "        state[4] = 1\n",
        "        if state[5] == 1:\n",
        "          state[5] = 0\n",
        "          state[4] = 0\n",
        "          state[0+i] = 4\n",
        "          R = 60-154\n",
        "        else:\n",
        "          R = 60\n",
        "          state[0+i] = 0\n",
        "      elif A == 'to4':\n",
        "        state[6] = 1\n",
        "        if state[7] == 1:\n",
        "          state[7] = 0\n",
        "          state[6] = 0\n",
        "          state[0+i] = 5\n",
        "          R = 60-172\n",
        "        else:\n",
        "          R = 60\n",
        "          state[0+i] = 0\n",
        "    elif state[0+i] == 2:\n",
        "      if A == 'to8':\n",
        "        state[0+i] = 0\n",
        "        R = 76\n",
        "      elif A == 'to3':\n",
        "        state[5] = 1\n",
        "        if state[4] == 1:\n",
        "          state[5] = 0\n",
        "          state[4] = 0\n",
        "          state[0+i] = 4\n",
        "          R = 76-154\n",
        "        else:\n",
        "          R = 76\n",
        "          state[0+i] = 0\n",
        "      elif A == 'to5':\n",
        "        state[8] = 1\n",
        "        if state[9] == 1:\n",
        "          state[9] = 0\n",
        "          state[8] = 0\n",
        "          state[0+i] = 6\n",
        "          R = 76-192\n",
        "        else:\n",
        "          R = 76\n",
        "          state[0+i] = 0\n",
        "    elif state[0+i] == 3:\n",
        "      if A == 'to8':\n",
        "        state[0+i] = 0\n",
        "        R = 92\n",
        "      elif A == 'to4':\n",
        "        state[7] = 1\n",
        "        if state[6] == 1:\n",
        "          state[6] = 0\n",
        "          state[7] = 0\n",
        "          state[0+i] = 4\n",
        "          R = 92-172\n",
        "        else:\n",
        "          R = 92\n",
        "          state[0+i] = 0\n",
        "      elif A == 'to5':\n",
        "        state[9] = 1\n",
        "        if state[8] == 1:\n",
        "          state[9] = 0\n",
        "          state[8] = 0\n",
        "          state[0+i] = 6\n",
        "          R = 92-192\n",
        "        else:\n",
        "          R = 92\n",
        "          state[0+i] = 0\n",
        "    elif state[0+i] == 4:\n",
        "      if A == 'to8':\n",
        "        state[0+i] = 0\n",
        "        R = 225\n",
        "      elif A == 'to6':\n",
        "        state[10] = 1\n",
        "        if state[11] == 1 and state[12] == 1:\n",
        "          state[10] = state[11] = state[12] = 0\n",
        "          R = 225-760\n",
        "          state[0+i] = 7\n",
        "        else:\n",
        "          R = 225\n",
        "          state[0+i] = 0\n",
        "    elif state[0+i] == 5:\n",
        "      if A == 'to8':\n",
        "        state[0+i] = 0\n",
        "        R = 250\n",
        "      elif A == 'to6':\n",
        "        state[11] = 1\n",
        "        if state[10] == 1 and state[12] == 1:\n",
        "          state[10] = state[11] = state[12] = 0\n",
        "          R = 250-760\n",
        "          state[0+i] = 7\n",
        "        else:\n",
        "          R = 250\n",
        "          state[0+i] = 0\n",
        "    elif state[0+i] == 6:\n",
        "      if A == 'to8':\n",
        "        state[0+i] = 0\n",
        "        R = 275\n",
        "      elif A == 'to6':\n",
        "        state[12] = 1\n",
        "        if state[10] == 1 and state[11] == 1:\n",
        "          state[10] = state[11] = state[12] = 0\n",
        "          R = 275-760\n",
        "          state[0+i] = 7\n",
        "        else:\n",
        "          R = 275\n",
        "          state[0+i] = 0\n",
        "    elif state[0+i] == 7:\n",
        "      if A == 'to7' or A == 'to8':\n",
        "        state[0+i] = 0\n",
        "        R = 1050\n",
        "    \n",
        "    for i in range(len(state)):\n",
        "      state[i] = str(state[i])\n",
        "    S_ = ''.join(state)\n",
        "    R = -R if R < 0 else R \n",
        "    return S_, R"
      ],
      "metadata": {
        "id": "t4PLWQkIhSOt"
      },
      "execution_count": null,
      "outputs": []
    },
    {
      "cell_type": "code",
      "source": [
        "MAX_EPISODES = 2\n",
        "def rl():\n",
        "    Q_table=[]\n",
        "    for i in range(num_robot):\n",
        "      table = build_q_table(STATES, ACTIONS)\n",
        "      Q_table.append(table)\n",
        "    #Q_table = Q_saved\n",
        "    for episode in range(MAX_EPISODES):\n",
        "        step_counter = 0\n",
        "        S = '0000000000000'\n",
        "        is_terminated = False\n",
        "        while not is_terminated:\n",
        "          for i in range(num_robot):\n",
        "            A = choose_action(S, Q_table[i])\n",
        "            S_, R = get_env_feedback(S, A, i)\n",
        "            q_predict = Q_table[i].loc[S, A]\n",
        "\n",
        "            if S_ != TerminalFlag:\n",
        "                q_target = R + GAMMA * Q_table[i].loc[S_,:].max()\n",
        "            else:\n",
        "                q_target = R\n",
        "                is_terminated = True\n",
        "            \n",
        "            Q_table[i].loc[S, A] += ALPHA * (q_target - q_predict)\n",
        "            \n",
        "            S = S_\n",
        "\n",
        "          step_counter += 1\n",
        "          if step_counter % 10000 == 0:\n",
        "              print('epoch%d,step%d'%(episode,step_counter))\n",
        "          if step_counter > 99999 :\n",
        "              break\n",
        "    return Q_table\n",
        "\n",
        "Q_table = rl()"
      ],
      "metadata": {
        "colab": {
          "base_uri": "https://localhost:8080/"
        },
        "id": "_kQJ6IZKhYvJ",
        "outputId": "e1cd922a-5244-482c-cba6-78cfa2aea98b"
      },
      "execution_count": null,
      "outputs": [
        {
          "output_type": "stream",
          "name": "stdout",
          "text": [
            "epoch0,step10000\n",
            "epoch0,step20000\n",
            "epoch0,step30000\n",
            "epoch0,step40000\n",
            "epoch0,step50000\n",
            "epoch0,step60000\n",
            "epoch0,step70000\n",
            "epoch0,step80000\n",
            "epoch0,step90000\n",
            "epoch0,step100000\n",
            "epoch1,step10000\n",
            "epoch1,step20000\n",
            "epoch1,step30000\n",
            "epoch1,step40000\n",
            "epoch1,step50000\n",
            "epoch1,step60000\n",
            "epoch1,step70000\n",
            "epoch1,step80000\n",
            "epoch1,step90000\n",
            "epoch1,step100000\n"
          ]
        }
      ]
    },
    {
      "cell_type": "code",
      "source": [
        "Q_table"
      ],
      "metadata": {
        "colab": {
          "base_uri": "https://localhost:8080/"
        },
        "id": "lYJHPiaMtKst",
        "outputId": "81fe75f4-02fa-4aca-ba61-e1f28943d1b6"
      },
      "execution_count": null,
      "outputs": [
        {
          "output_type": "execute_result",
          "data": {
            "text/plain": [
              "[               to0        to1  to2  to3  to4  to5  to6  to7  to8\n",
              " 0000000000000  3.0  34.392694  0.0  0.0  0.0  0.0  0.0  0.0  0.0\n",
              " 0000000000001  0.0   0.000000  0.0  0.0  0.0  0.0  0.0  0.0  0.0\n",
              " 0000000000010  0.0   0.000000  0.0  0.0  0.0  0.0  0.0  0.0  0.0\n",
              " 0000000000011  0.0   0.000000  0.0  0.0  0.0  0.0  0.0  0.0  0.0\n",
              " 0000000000100  0.0  22.954936  0.0  0.0  0.0  0.0  0.0  0.0  0.0\n",
              " ...            ...        ...  ...  ...  ...  ...  ...  ...  ...\n",
              " 7777111111011  0.0   0.000000  0.0  0.0  0.0  0.0  0.0  0.0  0.0\n",
              " 7777111111100  0.0   0.000000  0.0  0.0  0.0  0.0  0.0  0.0  0.0\n",
              " 7777111111101  0.0   0.000000  0.0  0.0  0.0  0.0  0.0  0.0  0.0\n",
              " 7777111111110  0.0   0.000000  0.0  0.0  0.0  0.0  0.0  0.0  0.0\n",
              " 7777111111111  0.0   0.000000  0.0  0.0  0.0  0.0  0.0  0.0  0.0\n",
              " \n",
              " [2097152 rows x 9 columns],\n",
              "                to0     to1        to2  to3  to4  to5  to6  to7  to8\n",
              " 0000000000000  0.0   0.000  37.964344  0.0  0.0  0.0  0.0  0.0  0.0\n",
              " 0000000000001  0.0   0.000  30.258780  0.0  0.0  0.0  0.0  0.0  0.0\n",
              " 0000000000010  0.0   0.000   0.000000  0.0  0.0  0.0  0.0  0.0  0.0\n",
              " 0000000000011  0.0   0.000   0.000000  0.0  0.0  0.0  0.0  0.0  0.0\n",
              " 0000000000100  0.0  11.924   0.000000  0.0  0.0  0.0  0.0  0.0  0.0\n",
              " ...            ...     ...        ...  ...  ...  ...  ...  ...  ...\n",
              " 7777111111011  0.0   0.000   0.000000  0.0  0.0  0.0  0.0  0.0  0.0\n",
              " 7777111111100  0.0   0.000   0.000000  0.0  0.0  0.0  0.0  0.0  0.0\n",
              " 7777111111101  0.0   0.000   0.000000  0.0  0.0  0.0  0.0  0.0  0.0\n",
              " 7777111111110  0.0   0.000   0.000000  0.0  0.0  0.0  0.0  0.0  0.0\n",
              " 7777111111111  0.0   0.000   0.000000  0.0  0.0  0.0  0.0  0.0  0.0\n",
              " \n",
              " [2097152 rows x 9 columns],\n",
              "                to0  to1       to2  to3  to4  to5  to6  to7  to8\n",
              " 0000000000000  0.0  0.0   0.00000  0.0  0.0  0.0  0.0  0.0  0.0\n",
              " 0000000000001  0.0  0.0  11.02000  0.0  0.0  0.0  0.0  0.0  0.0\n",
              " 0000000000010  0.0  0.0   0.00000  0.0  0.0  0.0  0.0  0.0  0.0\n",
              " 0000000000011  0.0  0.0  19.50642  0.0  0.0  0.0  0.0  0.0  0.0\n",
              " 0000000000100  0.0  0.0  15.71800  0.0  0.0  0.0  0.0  0.0  0.0\n",
              " ...            ...  ...       ...  ...  ...  ...  ...  ...  ...\n",
              " 7777111111011  0.0  0.0   0.00000  0.0  0.0  0.0  0.0  0.0  0.0\n",
              " 7777111111100  0.0  0.0   0.00000  0.0  0.0  0.0  0.0  0.0  0.0\n",
              " 7777111111101  0.0  0.0   0.00000  0.0  0.0  0.0  0.0  0.0  0.0\n",
              " 7777111111110  0.0  0.0   0.00000  0.0  0.0  0.0  0.0  0.0  0.0\n",
              " 7777111111111  0.0  0.0   0.00000  0.0  0.0  0.0  0.0  0.0  0.0\n",
              " \n",
              " [2097152 rows x 9 columns],\n",
              "                      to0  to1    to2  to3  to4  to5  to6  to7  to8\n",
              " 0000000000000   0.000000  0.0   0.00  0.0  0.0  0.0  0.0  0.0  0.0\n",
              " 0000000000001   0.000000  0.0  11.02  0.0  0.0  0.0  0.0  0.0  0.0\n",
              " 0000000000010   0.000000  0.0  11.02  0.0  0.0  0.0  0.0  0.0  0.0\n",
              " 0000000000011   0.000000  0.0   0.00  0.0  0.0  0.0  0.0  0.0  0.0\n",
              " 0000000000100  31.031041  0.0   0.00  0.0  0.0  0.0  0.0  0.0  0.0\n",
              " ...                  ...  ...    ...  ...  ...  ...  ...  ...  ...\n",
              " 7777111111011   0.000000  0.0   0.00  0.0  0.0  0.0  0.0  0.0  0.0\n",
              " 7777111111100   0.000000  0.0   0.00  0.0  0.0  0.0  0.0  0.0  0.0\n",
              " 7777111111101   0.000000  0.0   0.00  0.0  0.0  0.0  0.0  0.0  0.0\n",
              " 7777111111110   0.000000  0.0   0.00  0.0  0.0  0.0  0.0  0.0  0.0\n",
              " 7777111111111   0.000000  0.0   0.00  0.0  0.0  0.0  0.0  0.0  0.0\n",
              " \n",
              " [2097152 rows x 9 columns]]"
            ]
          },
          "metadata": {},
          "execution_count": 14
        }
      ]
    },
    {
      "cell_type": "code",
      "source": [
        "def test_action(S,step):\n",
        "  STEP = []\n",
        "  R_total = 0\n",
        "  for i in range(num_robot):\n",
        "    STEP.append([])\n",
        "  for i in range(step):\n",
        "    for i in range(num_robot):\n",
        "      A = choose_action(S, Q_table[i])\n",
        "      S_, R = get_env_feedback(S, A, i)\n",
        "      R_total = R + R_total\n",
        "      STEP[i].append(A)\n",
        "      S = S_\n",
        "  \n",
        "  for i in range(num_robot):\n",
        "    print('Robot%d:'%(i+1))\n",
        "    print(STEP[i])\n",
        "  return R_total\n",
        "\n",
        "S0 = '0000000000000'\n",
        "test_action(S0,10)"
      ],
      "metadata": {
        "colab": {
          "base_uri": "https://localhost:8080/"
        },
        "id": "AXm5pu9IOKTm",
        "outputId": "a5aa2515-8967-47a8-c760-fcd6c17a583d"
      },
      "execution_count": null,
      "outputs": [
        {
          "output_type": "stream",
          "name": "stdout",
          "text": [
            "Robot1:\n",
            "['to1', 'to5', 'to1', 'to5', 'to1', 'to4', 'to8', 'to1', 'to8', 'to1']\n",
            "Robot2:\n",
            "['to2', 'to5', 'to6', 'to0', 'to1', 'to3', 'to0', 'to4', 'to2', 'to0']\n",
            "Robot3:\n",
            "['to2', 'to7', 'to8', 'to0', 'to8', 'to5', 'to2', 'to4', 'to6', 'to8']\n",
            "Robot4:\n",
            "['to0', 'to7', 'to3', 'to1', 'to1', 'to3', 'to8', 'to1', 'to8', 'to2']\n"
          ]
        },
        {
          "output_type": "execute_result",
          "data": {
            "text/plain": [
              "2413"
            ]
          },
          "metadata": {},
          "execution_count": 17
        }
      ]
    },
    {
      "cell_type": "code",
      "source": [
        "x = '123456'\n",
        "state = list(x)\n",
        "for i in range(len(state)):\n",
        "  state[i] = int(state[i])\n",
        "\n",
        "for i in range(len(state)):\n",
        "    state[i] = str(state[i])\n",
        "S_ = ''.join(state)\n",
        "S_"
      ],
      "metadata": {
        "colab": {
          "base_uri": "https://localhost:8080/",
          "height": 35
        },
        "id": "A4D5g9RlZSbh",
        "outputId": "dbcad299-9bb7-43f2-a545-9508e976ea08"
      },
      "execution_count": null,
      "outputs": [
        {
          "output_type": "execute_result",
          "data": {
            "text/plain": [
              "'123456'"
            ],
            "application/vnd.google.colaboratory.intrinsic+json": {
              "type": "string"
            }
          },
          "metadata": {},
          "execution_count": 16
        }
      ]
    }
  ]
}